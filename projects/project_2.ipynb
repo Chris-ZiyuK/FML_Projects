{
 "cells": [
  {
   "cell_type": "markdown",
   "metadata": {
    "id": "bKXNjhiaxxUi"
   },
   "source": [
    "# Fundamentals of Machine Learning (CSCI-UA.473)\n",
    "\n",
    "## Homework 2\n",
    "### Due: October 26th, 2023 at 11:59PM\n",
    "\n",
    "### Name: Chris Kong\n",
    "### Email: zk2086@nyu.edu"
   ]
  },
  {
   "cell_type": "code",
   "execution_count": 53,
   "metadata": {
    "id": "AVL473j7W0CB"
   },
   "outputs": [],
   "source": [
    "import numpy as np\n",
    "import pandas as pd\n",
    "from sklearn.model_selection import train_test_split\n",
    "\n",
    "## Use the same dataset that was released with HW1\n",
    "data = pd.read_csv('FML2023_HW1_Dataset.csv')\n",
    "# Separate the features, target values, and feature names\n",
    "X = data.drop('target', axis=1)\n",
    "y = data['target'].values\n",
    "\n",
    "# Split the data into training and testing sets\n",
    "X_train, X_test, y_train, y_test = train_test_split(X, y, test_size=0.2, random_state=42)"
   ]
  },
  {
   "cell_type": "markdown",
   "metadata": {
    "id": "oD2ESfcW7ai7"
   },
   "source": [
    "### Question 1: Maximum Likelihood Estimation (MLE) vs Maximum A Posteriori (MAP) (25 points)\n",
    "\n",
    "In Homework 1, we performed linear and ridge regression. To summarize:\n",
    "\n",
    "In Linear regression,\n",
    "\n",
    "$$\\beta = \\arg\\min_{\\beta}\\sum\\left(y_i - \\left(\\beta_0 + \\beta_1 x_{1i} +, \\ldots, + \\beta_px_{p i}\\right)\\right)^2$$\n",
    "\n",
    "\n",
    "* $J(\\beta)$ is the cost function.\n",
    "* $\\beta_0,\\ldots,\\beta_p$ are the coefficients for the features.\n",
    "* $x_{1i}$ represents the values of the feature for the i-th observation.\n",
    "* $y_i$ is the target value for the i-th observation.\n",
    "\n",
    "For ridge regression\n",
    "\n",
    "$$J(\\beta) = \\sum\\left(y_i - \\left(\\beta_0 + \\beta_1 x_{1i} +, \\ldots, + \\beta_px_{p i}\\right)\\right)^2 + \\lambda \\cdot \\sum \\beta_i^2$$\n",
    "\n",
    "* $\\lambda$ is the regularization hyper-parameter.\n",
    "\n",
    "**Task 1.1 (5 points)** Linear regression embodies Maximum Likelihood Estimation (MLE). Show that a closed form expression is $$\\beta = (\\mathbf{A}^\\top \\mathbf{A})^{-1}\\mathbf{A}^\\top \\mathbf{Y}$$ where $\\mathbf{A} = [X_1,\\ldots,X_n]$ and $\\mathbf{Y} = [Y_1,\\ldots,Y_n]$.\n",
    "\n",
    "**Task 1.2 (5 points)**: Ridge regression embodies Maximum A Posteriori (MAP), wherein the regularizer serves as the prior. Show that a closed form expression for the ridge estimator is $$\\beta = (\\mathbf{A}^\\top \\mathbf{A} + \\lambda I)^{-1}\\mathbf{A}^\\top \\mathbf{Y}$$ where $\\mathbf{A} = [X_1,\\ldots,X_n]$ and $\\mathbf{Y} = [Y_1,\\ldots,Y_n]$.\n",
    "\n",
    "**Task 1.3 Implementation (10 points):** Fill in the code below to differentiate between MLE and MAP.\n",
    "\n",
    "**Task 1.4 (5 points):**\n",
    "* Do MLE and MAP yield distinct solutions as the sample size tends to infinity? Explain your answer.\n",
    "\n",
    "* Will the impact of prior be greater with a small or large sample size, and what is the underlying rationale for this phenomenon?\n",
    "\n"
   ]
  },
  {
   "cell_type": "markdown",
   "metadata": {},
   "source": [
    "**Task 1.1**\n",
    "\n",
    "\n",
    "Given a simple linear regression model, we have:\n",
    "\n",
    "$$  Y_i = \\beta^T X_i + \\epsilon_i $$\n",
    "\n",
    "Where $ \\epsilon_i $ is an error term. Assuming that errors are normally distributed with mean 0 and variance $\\sigma^2 $ $i.e.,  \\epsilon_i \\sim N(0, \\sigma^2) $, the likelihood function for observing the data is:\n",
    "\n",
    "$$ L(\\beta) = \\prod_{i=1}^n p(Y_i | X_i; \\beta) $$\n",
    "\n",
    "Given our assumption about the error term, this is:\n",
    "\n",
    "$$ L(\\beta) = \\prod_{i=1}^n \\frac{1}{\\sqrt{2\\pi\\sigma^2}} \\exp\\left( -\\frac{(Y_i - \\beta^T X_i)^2}{2\\sigma^2} \\right) $$\n",
    "\n",
    "To find the MLE of $ \\beta $, we want to maximize this likelihood. It's more convenient to maximize the log-likelihood, which is:\n",
    "\n",
    "$$ l(\\beta) = \\sum_{i=1}^n \\left[ -\\frac{1}{2} \\log(2\\pi\\sigma^2) - \\frac{(Y_i - \\beta^T X_i)^2}{2\\sigma^2} \\right] $$\n",
    "\n",
    "Setting the derivative of $ \\beta $ with respect to $ \\beta $ to zero, we get the normal equations:\n",
    "\n",
    "$$ \\mathbf{A}^\\top \\mathbf{A} \\beta = \\mathbf{A}^\\top \\mathbf{Y} $$\n",
    "\n",
    "Solving for $ \\beta $, we get:\n",
    "\n",
    "$$ \\beta = (\\mathbf{A}^\\top \\mathbf{A})^{-1} \\mathbf{A}^\\top \\mathbf{Y} $$\n",
    "\n",
    "This is the closed-form solution for MLE in linear regression."
   ]
  },
  {
   "cell_type": "markdown",
   "metadata": {},
   "source": [
    "**Task 1.2**\n",
    "\n",
    "Ridge regression adds a penalty to the standard linear regression cost function. This penalty is on the magnitude of the coefficients. It's equivalent to imposing a Gaussian prior on the coefficients $ \\beta $. The objective function for ridge regression is:\n",
    "\n",
    "$$\n",
    "J(\\beta) = \\sum_{i=1}^n (Y_i - \\beta^T X_i)^2 + \\lambda \\sum_{j=1}^p \\beta_j^2\n",
    "$$\n",
    "\n",
    "Where:\n",
    "- $ \\lambda $ is the regularization parameter.\n",
    "- $ p $ is the number of features.\n",
    "\n",
    "The likelihood for our data given this model is the same as for standard linear regression:\n",
    "\n",
    "$$\n",
    "L(\\beta) = \\prod_{i=1}^n p(Y_i | X_i; \\beta)\n",
    "$$\n",
    "\n",
    "But now, with our Gaussian prior on \\( \\beta \\), the posterior distribution is:\n",
    "\n",
    "$$\n",
    "P(\\beta | X, Y) \\propto L(\\beta) \\times P(\\beta)\n",
    "$$\n",
    "\n",
    "Where $ P(\\beta) $ is our Gaussian prior on the coefficients. The MAP estimate of $ \\beta $ is the value that maximizes this posterior distribution.\n",
    "\n",
    "Differentiating the ridge regression objective function with respect to \\( \\beta \\) and setting it to zero, we get the ridge regression normal equations:\n",
    "\n",
    "$$\n",
    "(\\mathbf{A}^\\top \\mathbf{A} + \\lambda I) \\beta = \\mathbf{A}^\\top \\mathbf{Y}\n",
    "$$\n",
    "\n",
    "Solving for \\( \\beta \\), we get the closed-form solution for MAP in ridge regression:\n",
    "\n",
    "$$\n",
    "\\beta = (\\mathbf{A}^\\top \\mathbf{A} + \\lambda I)^{-1} \\mathbf{A}^\\top \\mathbf{Y}\n",
    "$$\n"
   ]
  },
  {
   "cell_type": "markdown",
   "metadata": {},
   "source": [
    "**Task 1.3**"
   ]
  },
  {
   "cell_type": "code",
   "execution_count": 40,
   "metadata": {
    "id": "oleMgs0V7Zsl"
   },
   "outputs": [
    {
     "data": {
      "text/plain": [
       "2900.193628493481"
      ]
     },
     "execution_count": 40,
     "metadata": {},
     "output_type": "execute_result"
    }
   ],
   "source": [
    "def mle_linear_regression(X, y):\n",
    "    # Augmenting X with a column of ones for the intercept term\n",
    "    X_aug = np.hstack([np.ones((X.shape[0], 1)), X])\n",
    "    \n",
    "    # Compute the MLE estimates using closed-form solution\n",
    "    theta_mle = np.linalg.inv(X_aug.T @ X_aug) @ X_aug.T @ y\n",
    "    return theta_mle\n",
    "\n",
    "# Calculate MLE estimates without bias\n",
    "theta_mle = mle_linear_regression(X_train, y_train)\n",
    "\n",
    "# Make predictions on the test set\n",
    "X_test_aug = np.hstack([np.ones((X_test.shape[0], 1)), X_test])\n",
    "y_preds_mle = X_test_aug @ theta_mle\n",
    "\n",
    "# Calculate Mean Squared Error (MSE)\n",
    "mse_mle = np.mean((y_test - y_preds_mle)**2)\n",
    "mse_mle"
   ]
  },
  {
   "cell_type": "code",
   "execution_count": 41,
   "metadata": {
    "id": "cqvfD-8uF-Jl"
   },
   "outputs": [
    {
     "data": {
      "text/plain": [
       "2882.3289155849848"
      ]
     },
     "execution_count": 41,
     "metadata": {},
     "output_type": "execute_result"
    }
   ],
   "source": [
    "def map_linear_regression(X, y, lambda_reg):\n",
    "    # Augmenting X with a column of ones for the intercept term\n",
    "    X_aug = np.hstack([np.ones((X.shape[0], 1)), X])\n",
    "    \n",
    "    # Compute the MAP estimates using closed-form solution with L2 regularization\n",
    "    identity_matrix = np.eye(X_aug.shape[1])\n",
    "    theta_map = np.linalg.inv(X_aug.T @ X_aug + lambda_reg * identity_matrix) @ X_aug.T @ y\n",
    "    return theta_map\n",
    "\n",
    "# Set the regularization parameter (lambda)\n",
    "lambda_reg = 0.01\n",
    "theta_map = map_linear_regression(X_train, y_train, lambda_reg)\n",
    "\n",
    "# Make predictions on the test set using MAP\n",
    "y_preds_map = X_test_aug @ theta_map\n",
    "\n",
    "# Calculate Mean Squared Error (MSE) for MAP\n",
    "mse_map = np.mean((y_test - y_preds_map)**2)\n",
    "mse_map\n"
   ]
  },
  {
   "cell_type": "markdown",
   "metadata": {},
   "source": [
    "**Task 1.4**\n",
    "\n",
    "**1. Do MLE and MAP yield distinct solutions as the sample size tends to infinity? Explain your answer.**\n",
    "\n",
    "As the sample size tends to infinity, the amount of data available becomes overwhelming and dominates any prior beliefs or regularization terms. In this scenario, the influence of the regularization term in MAP (ridge regression in this context) diminishes. Consequently, the MAP estimate approaches the MLE estimate. Therefore, as the sample size grows indefinitely, the solutions provided by MLE and MAP become indistinguishable.\n",
    "\n",
    "**2. Will the impact of the prior be greater with a small or large sample size, and what is the underlying rationale for this phenomenon?**\n",
    "\n",
    "The impact of the prior (regularization in ridge regression) is more pronounced when the sample size is small. When data is limited, the prior can play a significant role in shaping the solution, effectively acting as a form of bias that guides the model towards a particular solution. This can be especially useful in preventing overfitting when data is scarce. However, as the sample size grows and more data becomes available, the influence of the actual data on the model outweighs the influence of the prior. In essence, the data \"speaks louder\" than the prior, and the effect of the prior diminishes."
   ]
  },
  {
   "cell_type": "markdown",
   "metadata": {
    "id": "RwH8gND4XGvE"
   },
   "source": [
    "### Question 2: Classification with imbalanced dataset (20 points)\n",
    "\n",
    "We are creating an imbalanced version of the target variable for the Z dataset. An imbalanced dataset means that one class is much more frequent than the other class. In our case, we will consider the two classes as follows:\n",
    "\n",
    "- Class 0: Z progression values that are below the 75th percentile of the original target variable.\n",
    "- Class 1: Z progression values that are above the 75th percentile of the original target variable.\n",
    "\n",
    "By doing this, we are creating an imbalance where Class 0 will be more prevalent than Class 1, mimicking a common scenario in real-world imbalanced datasets."
   ]
  },
  {
   "cell_type": "code",
   "execution_count": 63,
   "metadata": {
    "id": "dQMA6OPsXD49"
   },
   "outputs": [],
   "source": [
    "from sklearn.utils import shuffle\n",
    "from sklearn.model_selection import train_test_split\n",
    "\n",
    "# Shuffle the data\n",
    "X, y = shuffle(X, y, random_state=42)\n",
    "\n",
    "# Create an imbalanced target variable\n",
    "y_imbalanced = np.where(y > np.percentile(y, 75), 1, 0)\n",
    "\n",
    "X_train, X_test, y_train, y_test = train_test_split(X, y_imbalanced, test_size=0.2, random_state=42)"
   ]
  },
  {
   "cell_type": "markdown",
   "metadata": {
    "id": "FJiy4EyUYX93"
   },
   "source": [
    "\n",
    "**Task 2.1 (3 points):**\n",
    "- Create a SVM classifier with a linear kernel, then calculate accuracy, precision, recall, and F1 score using available library functions."
   ]
  },
  {
   "cell_type": "code",
   "execution_count": 65,
   "metadata": {
    "id": "eKLZyXkwSDw0"
   },
   "outputs": [
    {
     "data": {
      "text/plain": [
       "(0.8426966292134831, 0.0, 0.0, 0.0)"
      ]
     },
     "execution_count": 65,
     "metadata": {},
     "output_type": "execute_result"
    }
   ],
   "source": [
    "from sklearn.svm import SVC\n",
    "from sklearn.metrics import accuracy_score, precision_score, recall_score, f1_score\n",
    "\n",
    "# 1. Create an SVM classifier with a linear kernel\n",
    "svm_classifier = SVC(kernel='linear', random_state=42)\n",
    "\n",
    "# 2. Fit the classifier on the training data\n",
    "svm_classifier.fit(X_train, y_train)\n",
    "\n",
    "# 3. Make predictions on the test data\n",
    "y_pred = svm_classifier.predict(X_test)\n",
    "\n",
    "# 4. Calculate accuracy, precision, recall, and F1 score\n",
    "accuracy = accuracy_score(y_test, y_pred)\n",
    "precision = precision_score(y_test, y_pred)\n",
    "recall = recall_score(y_test, y_pred)\n",
    "f1 = f1_score(y_test, y_pred)\n",
    "\n",
    "accuracy, precision, recall, f1"
   ]
  },
  {
   "cell_type": "markdown",
   "metadata": {
    "id": "i6mJ3w9TbWHT"
   },
   "source": [
    "\n",
    "**Task 2.2 (5 points):** What causes the metrics to exhibit lower values for the imbalanced dataset compared to those in homework 1?\n",
    "\n",
    "When dealing with imbalanced datasets, standard metrics such as accuracy can be misleading. Here's why:\n",
    "\n",
    "1. **Bias Towards the Majority Class**: Traditional classifiers, when trained on imbalanced datasets, tend to be biased towards the majority class. This is because the classifier will achieve a high accuracy by simply predicting the majority class for all inputs.\n",
    "\n",
    "2. **Misleading Accuracy**: In imbalanced datasets, even a naive model that always predicts the majority class can have a high accuracy. For instance, if 95% of the data belongs to Class 0 and 5% to Class 1, a model that always predicts Class 0 will have an accuracy of 95%.\n",
    "\n",
    "3. **Loss of Important Data**: The minority class, although less frequent, may represent critical data. In many real-world scenarios like fraud detection or rare disease diagnosis, the minority class is more important. If the model fails to classify the minority class correctly due to the imbalance, it can lead to significant consequences, even if the overall accuracy is high.\n",
    "\n",
    "4. **Performance Metrics**: Precision, recall, and F1 score can also be affected by class imbalance. For example, if the minority class (e.g., Class 1) is of interest, a low recall indicates many false negatives, meaning many actual positive instances are predicted as negative. This can be problematic in applications where detecting the positive class is crucial.\n",
    "\n",
    "To overcome these challenges and get a true sense of a model's performance on imbalanced datasets, it's essential to look beyond accuracy and consider other metrics like precision, recall, F1 score, and the area under the ROC curve (AUC-ROC). Additionally, techniques like resampling (oversampling or undersampling), using different evaluation metrics, or adopting algorithms that are designed to handle imbalance can be applied.\n"
   ]
  },
  {
   "cell_type": "markdown",
   "metadata": {
    "id": "QPYn44O40aKX"
   },
   "source": [
    "**Random oversampling** is one of the many techniques used to address the class imbalance problem. It involves increasing the number of instances in the minority class by randomly duplicating existing instances. This helps to balance the class distribution and can lead to improved performance for certain models.\n",
    "\n",
    "**Task 2.3 (2 points):** Calculate and display the following statistics for the target variable (y) before applying random oversampling:\n",
    "  - Mean\n",
    "  - Standard Deviation\n",
    "  - Minimum\n",
    "  - Maximum\n",
    "\n",
    "**Task 2.4 (5 points):** Perform random oversampling on the training set. After oversampling, calculate and display the same statistics for the oversampled target variable."
   ]
  },
  {
   "cell_type": "markdown",
   "metadata": {},
   "source": [
    "**Task2.3**"
   ]
  },
  {
   "cell_type": "code",
   "execution_count": 66,
   "metadata": {
    "id": "PItrNXNsX7ou"
   },
   "outputs": [
    {
     "data": {
      "text/plain": [
       "(152.13348416289594, 77.00574586945044, 25.0, 346.0)"
      ]
     },
     "execution_count": 66,
     "metadata": {},
     "output_type": "execute_result"
    }
   ],
   "source": [
    "# Calculate statistics for the target variable y (before applying random oversampling)\n",
    "mean_y = np.mean(y)\n",
    "std_y = np.std(y)\n",
    "min_y = np.min(y)\n",
    "max_y = np.max(y)\n",
    "\n",
    "mean_y, std_y, min_y, max_y\n"
   ]
  },
  {
   "cell_type": "markdown",
   "metadata": {},
   "source": [
    "**Task2.4**"
   ]
  },
  {
   "cell_type": "code",
   "execution_count": 67,
   "metadata": {},
   "outputs": [
    {
     "data": {
      "text/plain": [
       "(0.5, 0.5, 0, 1)"
      ]
     },
     "execution_count": 67,
     "metadata": {},
     "output_type": "execute_result"
    }
   ],
   "source": [
    "from sklearn.utils import resample\n",
    "\n",
    "# 1. Perform random oversampling on the training set\n",
    "X_train_oversampled, y_train_oversampled = resample(X_train[y_train == 1], y_train[y_train == 1], \n",
    "                                                    replace=True, n_samples=len(y_train[y_train == 0]), random_state=42)\n",
    "\n",
    "X_train_oversampled = np.vstack((X_train[y_train == 0], X_train_oversampled))\n",
    "y_train_oversampled = np.hstack((y_train[y_train == 0], y_train_oversampled))\n",
    "\n",
    "# 2. Calculate statistics for the oversampled target variable\n",
    "mean_y_oversampled = np.mean(y_train_oversampled)\n",
    "std_y_oversampled = np.std(y_train_oversampled)\n",
    "min_y_oversampled = np.min(y_train_oversampled)\n",
    "max_y_oversampled = np.max(y_train_oversampled)\n",
    "\n",
    "mean_y_oversampled, std_y_oversampled, min_y_oversampled, max_y_oversampled\n"
   ]
  },
  {
   "cell_type": "markdown",
   "metadata": {
    "id": "Oel3kCeV2tOM"
   },
   "source": [
    "**Task 2.5 (5 points):**\n",
    "- Create another instance of SVM classifier with linear kernel, fit it on the oversampled data and calculate all the prior metrics for the oversampled model.\n",
    "- Show the metrics with different regularization parameters {0.1, 1, 10, 100} on the linear kernel.\n",
    "- Show the metrics with polynomial degrees {-1, 0, 3, 4} and observe how the model's complexity changes.\n",
    "- Introduce different values for the regularization parameter in the RBF kernel and show how it balances the trade-off between maximizing the margin and minimizing classification error."
   ]
  },
  {
   "cell_type": "code",
   "execution_count": 68,
   "metadata": {
    "id": "LeictOez24d9"
   },
   "outputs": [
    {
     "data": {
      "text/plain": [
       "(0.7865168539325843,\n",
       " 0.41935483870967744,\n",
       " 0.9285714285714286,\n",
       " 0.5777777777777778)"
      ]
     },
     "execution_count": 68,
     "metadata": {},
     "output_type": "execute_result"
    }
   ],
   "source": [
    "# Helper function to calculate metrics for different SVM configurations\n",
    "def calculate_svm_metrics(X_train, y_train, X_test, y_test, kernel='linear', C=1.0, degree=3):\n",
    "    svm_classifier = SVC(kernel=kernel, C=C, degree=degree, random_state=42)\n",
    "    svm_classifier.fit(X_train, y_train)\n",
    "    y_pred = svm_classifier.predict(X_test)\n",
    "\n",
    "    accuracy = accuracy_score(y_test, y_pred)\n",
    "    precision = precision_score(y_test, y_pred)\n",
    "    recall = recall_score(y_test, y_pred)\n",
    "    f1 = f1_score(y_test, y_pred)\n",
    "    \n",
    "    return accuracy, precision, recall, f1\n",
    "\n",
    "# 1. Create another instance of the SVM classifier with a linear kernel and fit it on the oversampled data\n",
    "# 2. Calculate accuracy, precision, recall, and F1 score for the oversampled model\n",
    "accuracy_oversampled, precision_oversampled, recall_oversampled, f1_oversampled = calculate_svm_metrics(\n",
    "    X_train_oversampled, y_train_oversampled, X_test, y_test)\n",
    "\n",
    "accuracy_oversampled, precision_oversampled, recall_oversampled, f1_oversampled\n"
   ]
  },
  {
   "cell_type": "code",
   "execution_count": 69,
   "metadata": {},
   "outputs": [
    {
     "data": {
      "text/html": [
       "<div>\n",
       "<style scoped>\n",
       "    .dataframe tbody tr th:only-of-type {\n",
       "        vertical-align: middle;\n",
       "    }\n",
       "\n",
       "    .dataframe tbody tr th {\n",
       "        vertical-align: top;\n",
       "    }\n",
       "\n",
       "    .dataframe thead th {\n",
       "        text-align: right;\n",
       "    }\n",
       "</style>\n",
       "<table border=\"1\" class=\"dataframe\">\n",
       "  <thead>\n",
       "    <tr style=\"text-align: right;\">\n",
       "      <th></th>\n",
       "      <th>Accuracy</th>\n",
       "      <th>Precision</th>\n",
       "      <th>Recall</th>\n",
       "      <th>F1 Score</th>\n",
       "    </tr>\n",
       "  </thead>\n",
       "  <tbody>\n",
       "    <tr>\n",
       "      <th>0.1</th>\n",
       "      <td>0.741573</td>\n",
       "      <td>0.371429</td>\n",
       "      <td>0.928571</td>\n",
       "      <td>0.530612</td>\n",
       "    </tr>\n",
       "    <tr>\n",
       "      <th>1.0</th>\n",
       "      <td>0.786517</td>\n",
       "      <td>0.419355</td>\n",
       "      <td>0.928571</td>\n",
       "      <td>0.577778</td>\n",
       "    </tr>\n",
       "    <tr>\n",
       "      <th>10.0</th>\n",
       "      <td>0.775281</td>\n",
       "      <td>0.392857</td>\n",
       "      <td>0.785714</td>\n",
       "      <td>0.523810</td>\n",
       "    </tr>\n",
       "    <tr>\n",
       "      <th>100.0</th>\n",
       "      <td>0.764045</td>\n",
       "      <td>0.379310</td>\n",
       "      <td>0.785714</td>\n",
       "      <td>0.511628</td>\n",
       "    </tr>\n",
       "  </tbody>\n",
       "</table>\n",
       "</div>"
      ],
      "text/plain": [
       "       Accuracy  Precision    Recall  F1 Score\n",
       "0.1    0.741573   0.371429  0.928571  0.530612\n",
       "1.0    0.786517   0.419355  0.928571  0.577778\n",
       "10.0   0.775281   0.392857  0.785714  0.523810\n",
       "100.0  0.764045   0.379310  0.785714  0.511628"
      ]
     },
     "execution_count": 69,
     "metadata": {},
     "output_type": "execute_result"
    }
   ],
   "source": [
    "# Regularization parameters to test\n",
    "C_values = [0.1, 1, 10, 100]\n",
    "\n",
    "# Calculate metrics for different regularization parameters on the linear kernel\n",
    "metrics_results = []\n",
    "for C in C_values:\n",
    "    accuracy, precision, recall, f1 = calculate_svm_metrics(X_train_oversampled, y_train_oversampled, X_test, y_test, C=C)\n",
    "    metrics_results.append((accuracy, precision, recall, f1))\n",
    "\n",
    "metrics_df = pd.DataFrame(metrics_results, columns=['Accuracy', 'Precision', 'Recall', 'F1 Score'], index=C_values)\n",
    "metrics_df\n"
   ]
  },
  {
   "cell_type": "code",
   "execution_count": 70,
   "metadata": {},
   "outputs": [
    {
     "data": {
      "text/html": [
       "<div>\n",
       "<style scoped>\n",
       "    .dataframe tbody tr th:only-of-type {\n",
       "        vertical-align: middle;\n",
       "    }\n",
       "\n",
       "    .dataframe tbody tr th {\n",
       "        vertical-align: top;\n",
       "    }\n",
       "\n",
       "    .dataframe thead th {\n",
       "        text-align: right;\n",
       "    }\n",
       "</style>\n",
       "<table border=\"1\" class=\"dataframe\">\n",
       "  <thead>\n",
       "    <tr style=\"text-align: right;\">\n",
       "      <th></th>\n",
       "      <th>Accuracy</th>\n",
       "      <th>Precision</th>\n",
       "      <th>Recall</th>\n",
       "      <th>F1 Score</th>\n",
       "    </tr>\n",
       "  </thead>\n",
       "  <tbody>\n",
       "    <tr>\n",
       "      <th>0</th>\n",
       "      <td>0.157303</td>\n",
       "      <td>0.157303</td>\n",
       "      <td>1.000000</td>\n",
       "      <td>0.271845</td>\n",
       "    </tr>\n",
       "    <tr>\n",
       "      <th>1</th>\n",
       "      <td>0.764045</td>\n",
       "      <td>0.379310</td>\n",
       "      <td>0.785714</td>\n",
       "      <td>0.511628</td>\n",
       "    </tr>\n",
       "    <tr>\n",
       "      <th>3</th>\n",
       "      <td>0.831461</td>\n",
       "      <td>0.473684</td>\n",
       "      <td>0.642857</td>\n",
       "      <td>0.545455</td>\n",
       "    </tr>\n",
       "    <tr>\n",
       "      <th>4</th>\n",
       "      <td>0.831461</td>\n",
       "      <td>0.444444</td>\n",
       "      <td>0.285714</td>\n",
       "      <td>0.347826</td>\n",
       "    </tr>\n",
       "  </tbody>\n",
       "</table>\n",
       "</div>"
      ],
      "text/plain": [
       "   Accuracy  Precision    Recall  F1 Score\n",
       "0  0.157303   0.157303  1.000000  0.271845\n",
       "1  0.764045   0.379310  0.785714  0.511628\n",
       "3  0.831461   0.473684  0.642857  0.545455\n",
       "4  0.831461   0.444444  0.285714  0.347826"
      ]
     },
     "execution_count": 70,
     "metadata": {},
     "output_type": "execute_result"
    }
   ],
   "source": [
    "# Polynomial degrees to test\n",
    "degree_values = [0, 1, 3, 4]\n",
    "\n",
    "# Calculate metrics for different polynomial degrees\n",
    "poly_metrics_results = []\n",
    "for degree in degree_values:\n",
    "    accuracy, precision, recall, f1 = calculate_svm_metrics(X_train_oversampled, y_train_oversampled, X_test, y_test, kernel='poly', degree=degree)\n",
    "    poly_metrics_results.append((accuracy, precision, recall, f1))\n",
    "\n",
    "poly_metrics_df = pd.DataFrame(poly_metrics_results, columns=['Accuracy', 'Precision', 'Recall', 'F1 Score'], index=degree_values)\n",
    "poly_metrics_df\n"
   ]
  },
  {
   "cell_type": "code",
   "execution_count": 71,
   "metadata": {},
   "outputs": [
    {
     "data": {
      "text/html": [
       "<div>\n",
       "<style scoped>\n",
       "    .dataframe tbody tr th:only-of-type {\n",
       "        vertical-align: middle;\n",
       "    }\n",
       "\n",
       "    .dataframe tbody tr th {\n",
       "        vertical-align: top;\n",
       "    }\n",
       "\n",
       "    .dataframe thead th {\n",
       "        text-align: right;\n",
       "    }\n",
       "</style>\n",
       "<table border=\"1\" class=\"dataframe\">\n",
       "  <thead>\n",
       "    <tr style=\"text-align: right;\">\n",
       "      <th></th>\n",
       "      <th>Accuracy</th>\n",
       "      <th>Precision</th>\n",
       "      <th>Recall</th>\n",
       "      <th>F1 Score</th>\n",
       "    </tr>\n",
       "  </thead>\n",
       "  <tbody>\n",
       "    <tr>\n",
       "      <th>0.1</th>\n",
       "      <td>0.786517</td>\n",
       "      <td>0.413793</td>\n",
       "      <td>0.857143</td>\n",
       "      <td>0.558140</td>\n",
       "    </tr>\n",
       "    <tr>\n",
       "      <th>1.0</th>\n",
       "      <td>0.808989</td>\n",
       "      <td>0.434783</td>\n",
       "      <td>0.714286</td>\n",
       "      <td>0.540541</td>\n",
       "    </tr>\n",
       "    <tr>\n",
       "      <th>10.0</th>\n",
       "      <td>0.808989</td>\n",
       "      <td>0.421053</td>\n",
       "      <td>0.571429</td>\n",
       "      <td>0.484848</td>\n",
       "    </tr>\n",
       "    <tr>\n",
       "      <th>100.0</th>\n",
       "      <td>0.764045</td>\n",
       "      <td>0.315789</td>\n",
       "      <td>0.428571</td>\n",
       "      <td>0.363636</td>\n",
       "    </tr>\n",
       "  </tbody>\n",
       "</table>\n",
       "</div>"
      ],
      "text/plain": [
       "       Accuracy  Precision    Recall  F1 Score\n",
       "0.1    0.786517   0.413793  0.857143  0.558140\n",
       "1.0    0.808989   0.434783  0.714286  0.540541\n",
       "10.0   0.808989   0.421053  0.571429  0.484848\n",
       "100.0  0.764045   0.315789  0.428571  0.363636"
      ]
     },
     "execution_count": 71,
     "metadata": {},
     "output_type": "execute_result"
    }
   ],
   "source": [
    "# Calculate metrics for different regularization parameters on the RBF kernel\n",
    "rbf_metrics_results = []\n",
    "for C in C_values: #We will reuse the C values for convenience\n",
    "    accuracy, precision, recall, f1 = calculate_svm_metrics(X_train_oversampled, y_train_oversampled, X_test, y_test, kernel='rbf', C=C)\n",
    "    rbf_metrics_results.append((accuracy, precision, recall, f1))\n",
    "\n",
    "rbf_metrics_df = pd.DataFrame(rbf_metrics_results, columns=['Accuracy', 'Precision', 'Recall', 'F1 Score'], index=C_values)\n",
    "rbf_metrics_df\n"
   ]
  },
  {
   "cell_type": "markdown",
   "metadata": {
    "id": "oquatEvqroqa"
   },
   "source": [
    "### Question 3: Naive Bayes Model (10 points)\n",
    "\n",
    "Implement the Naieve Bayes classifer on the Z dataset. \n",
    "\n",
    "We will assume that each continuous feature $X_i$ of $X$ follow a Gaussian distribution within each class $Y$.\n",
    "\n",
    "- For each class $c$, calculate the mean $(\\mu_c)$ and standard deviation $(\\sigma_c)$ for each feature. These parameters represent the central tendency and spread of the feature values within each class. They can be computed as:\n",
    "\n",
    "   \\begin{align*}\n",
    "   \\mu_c^j &= \\frac{1}{N_c} \\sum_{i=1}^{N_c} X_i^j \\quad \\text{(mean of feature \\(j\\) in class \\(c\\))} \\\\\n",
    "   \\sigma_c^j &= \\sqrt{\\frac{1}{N_c} \\sum_{i=1}^{N_c} (X_i^j - \\mu_c^j)^2} + \\epsilon \\quad \\text{(standard deviation of feature \\(j\\) in class \\(c\\))}\n",
    "   \\end{align*}\n",
    "     \n",
    "   where $N_c$ is the number of data points in class $c$, and $\\varepsilon=1e^{-6}$ is a small constant added for numerical stability.\n",
    "\n",
    "- To make a prediction for a new data point $x$, calculate the probability of $x$ belonging to each class $c$ using the Gaussian probability density function:\n",
    "\n",
    "   \\begin{align*}\n",
    "   P(X^j = x^j | Y = c) = \\frac{1}{\\sqrt{2\\pi}\\sigma_c^j} e^{-\\frac{1}{2}\\left(\\frac{x^j - \\mu_c^j}{\\sigma_c^j}\\right)^2}\n",
    "   \\end{align*}\n",
    "\n",
    "- Calculate the class probability $P(Y = c | X = x)$ as the product of the probabilities of each feature:\n",
    "\n",
    "    \\begin{align*}\n",
    "     P(Y = c | X = x) = P(Y = c) \\prod_{j=1}^{D} P(X^j = x^j | Y = c)\n",
    "    \\end{align*}\n",
    "\n",
    "   where $D$ is the number of features.\n",
    "\n",
    "- Assign the class label to the class with the highest probability:\n",
    "\n",
    "    \\begin{align*}\n",
    "     \\hat{Y} = \\arg\\max_{c} P(Y = c | X = x)\n",
    "     \\end{align*}\n",
    "\n",
    "**Hint:** In the code for Gaussian Naive Bayes, we take logarithms in certain calculations. This is a common technique used to avoid numerical underflow, especially when working with small probabilities."
   ]
  },
  {
   "cell_type": "code",
   "execution_count": 73,
   "metadata": {
    "id": "JEIVwXWKrscC"
   },
   "outputs": [
    {
     "data": {
      "text/plain": [
       "0.7640449438202247"
      ]
     },
     "execution_count": 73,
     "metadata": {},
     "output_type": "execute_result"
    }
   ],
   "source": [
    "# Define epsilon for numerical stability\n",
    "epsilon = 1e-6\n",
    "\n",
    "class GaussianNaiveBayes:\n",
    "\n",
    "    def fit(self, X, y):\n",
    "        self.classes = np.unique(y)\n",
    "        self.parameters = {}\n",
    "        for c in self.classes:\n",
    "            data_c = X[y == c]\n",
    "            mu_c = np.mean(data_c, axis=0)\n",
    "            sigma_c = np.std(data_c, axis=0) + epsilon\n",
    "            self.parameters[c] = {'mean': mu_c, 'std': sigma_c}\n",
    "\n",
    "    def _calculate_likelihood(self, x, mean, std):\n",
    "        return (1.0 / (np.sqrt(2 * np.pi) * std)) * np.exp(-0.5 * ((x - mean) / std) ** 2)\n",
    "\n",
    "    def _calculate_class_probability(self, x, c):\n",
    "        p_y = len(y_train_oversampled[y_train_oversampled == c]) / len(y_train_oversampled)\n",
    "        p_x_given_y = np.prod([self._calculate_likelihood(x[j], self.parameters[c]['mean'][j], self.parameters[c]['std'][j]) for j in range(len(x))])\n",
    "        return p_y * p_x_given_y\n",
    "\n",
    "    def predict(self, X):\n",
    "        y_pred = [max(self.classes, key=lambda c: self._calculate_class_probability(x, c)) for x in X]\n",
    "        return y_pred\n",
    "\n",
    "    def score(self, X, y):\n",
    "        y_pred = self.predict(X)\n",
    "        accuracy = np.mean(y_pred == y)\n",
    "        return accuracy\n",
    "\n",
    "# Initialize and train the Gaussian Naive Bayes classifier\n",
    "gnb = GaussianNaiveBayes()\n",
    "gnb.fit(X_train_oversampled, y_train_oversampled)\n",
    "y_pred = gnb.predict(X_test.values)\n",
    "accuracy = gnb.score(X_test.values, y_test)\n",
    "accuracy\n"
   ]
  },
  {
   "cell_type": "code",
   "execution_count": 11,
   "metadata": {},
   "outputs": [
    {
     "data": {
      "text/plain": [
       "0.011235955056179775"
      ]
     },
     "execution_count": 11,
     "metadata": {},
     "output_type": "execute_result"
    }
   ],
   "source": [
    "# Using the original dataset:\n",
    "\n",
    "import numpy as np\n",
    "import pandas as pd\n",
    "from sklearn.model_selection import train_test_split\n",
    "\n",
    "## Use the same dataset that was released with HW1\n",
    "data = pd.read_csv('FML2023_HW1_Dataset.csv')\n",
    "# Separate the features, target values, and feature names\n",
    "X = data.drop('target', axis=1)\n",
    "y = data['target'].values\n",
    "\n",
    "# Split the data into training and testing sets\n",
    "X_train, X_test, y_train, y_test = train_test_split(X, y, test_size=0.2, random_state=42)\n",
    "\n",
    "# Define epsilon for numerical stability\n",
    "epsilon = 1e-3\n",
    "\n",
    "class GaussianNaiveBayes:\n",
    "\n",
    "    def fit(self, X, y):\n",
    "        self.classes = np.unique(y)\n",
    "        self.parameters = {}\n",
    "        for c in self.classes:\n",
    "            data_c = X[y == c]\n",
    "            mu_c = np.mean(data_c, axis=0)\n",
    "            sigma_c = np.std(data_c, axis=0) + epsilon\n",
    "            self.parameters[c] = {'mean': mu_c, 'std': sigma_c}\n",
    "\n",
    "    def _calculate_likelihood(self, x, mean, std):\n",
    "        return (1.0 / (np.sqrt(2 * np.pi) * std)) * np.exp(-0.5 * ((x - mean) / std) ** 2)\n",
    "\n",
    "    def _calculate_class_probability(self, x, c):\n",
    "        p_y = len(y_train[y_train == c]) / len(y_train)\n",
    "        p_x_given_y = np.prod([self._calculate_likelihood(x[j], self.parameters[c]['mean'][j], self.parameters[c]['std'][j]) for j in range(len(x))])\n",
    "        return p_y * p_x_given_y\n",
    "\n",
    "    def predict(self, X):\n",
    "        y_pred = [max(self.classes, key=lambda c: self._calculate_class_probability(x, c)) for x in X]\n",
    "        return y_pred\n",
    "\n",
    "    def score(self, X, y):\n",
    "        y_pred = self.predict(X)\n",
    "        accuracy = np.mean(y_pred == y)\n",
    "        return accuracy\n",
    "\n",
    "# Initialize and train the Gaussian Naive Bayes classifier\n",
    "gnb = GaussianNaiveBayes()\n",
    "gnb.fit(X_train, y_train)\n",
    "y_pred = gnb.predict(X_test.values)\n",
    "accuracy = gnb.score(X_test.values, y_test)\n",
    "accuracy"
   ]
  },
  {
   "cell_type": "markdown",
   "metadata": {
    "id": "4czskeTTCMam"
   },
   "source": [
    "### Question 4: ROC curve and AUROC (15 points)\n",
    "\n",
    "**Task 4.1 (3 points):** Imagine you are a public health researcher investigating the performance of a new diagnostic test for disease Z, which is a potentially life-threatening condition. The test is designed to identify individuals who have the disease. You have collected data from a group of 500 patients who were tested for disease Z, and the results are as follows:\n",
    "\n",
    "Out of 150 patients who actually have disease Z, the test correctly identified 120 of them as positive.\n",
    "However, the test also falsely identified 50 patients who do not have disease Z as positive.\n",
    "\n",
    "* **Precision:** Define precision in the context of this diagnostic test for disease Z. Calculate the precision of the test based on the provided data.\n",
    "* **Recall:** Explain what recall means in this scenario. Calculate the recall of the test based on the provided data.\n",
    "* **F1-score:** Define the F1-score and explain why it is important, especially in the context of diagnosing a serious disease like Z. Calculate the F1-score of the test based on the provided data.\n",
    "* **Specificity:** What is specificity, and why is it relevant when evaluating a diagnostic test like this one? Calculate the specificity of the test based on the provided data.\n",
    "* **Balanced Accuracy:** Describe what balanced accuracy is and why it might be a useful metric in this situation. Calculate the balanced accuracy of the test based on the provided data."
   ]
  },
  {
   "cell_type": "markdown",
   "metadata": {},
   "source": [
    "\n",
    "### Definitions and Calculations:\n",
    "\n",
    "1. **Precision (Positive Predictive Value)**:\n",
    "    - **Definition**: Precision indicates the proportion of positive identifications (by the test) that were actually correct. It's a measure of the test's accuracy when declaring a positive result.\n",
    "    - **Formula**: \n",
    "    $$\n",
    "    \\text{Precision} = \\frac{\\text{True Positives (TP)}}{\\text{True Positives (TP) + False Positives (FP)}}\n",
    "    $$\n",
    "    \n",
    "2. **Recall (Sensitivity or True Positive Rate)**:\n",
    "    - **Definition**: Recall measures the proportion of actual positives that were correctly identified by the test. It's a measure of the test's ability to find all the positive cases.\n",
    "    - **Formula**: \n",
    "    $$\n",
    "    \\text{Recall} = \\frac{\\text{True Positives (TP)}}{\\text{True Positives (TP) + False Negatives (FN)}}\n",
    "    $$\n",
    "\n",
    "3. **F1-score**:\n",
    "    - **Definition**: The F1-score is the harmonic mean of precision and recall. It provides a balance between the two. When diagnosing a serious disease, it's crucial because both false negatives and false positives have serious implications.\n",
    "    - **Formula**: \n",
    "    $$\n",
    "    \\text{F1-score} = 2 \\times \\frac{\\text{Precision} \\times \\text{Recall}}{\\text{Precision} + \\text{Recall}}\n",
    "    $$\n",
    "\n",
    "4. **Specificity (True Negative Rate)**:\n",
    "    - **Definition**: Specificity measures the proportion of actual negatives that were correctly identified by the test. It's crucial because it tells us how good the test is at avoiding false alarms.\n",
    "    - **Formula**: \n",
    "    $$\n",
    "    \\text{Specificity} = \\frac{\\text{True Negatives (TN)}}{\\text{True Negatives (TN) + False Positives (FP)}}\n",
    "    $$\n",
    "\n",
    "5. **Balanced Accuracy**:\n",
    "    - **Definition**: Balanced accuracy is the average of recall and specificity. It provides a balanced measure of the test's performance across both positive and negative cases. In situations where there's a class imbalance or where both types of errors have significant implications, balanced accuracy can be a more informative metric.\n",
    "    - **Formula**: \n",
    "    $$\n",
    "    \\text{Balanced Accuracy} = \\frac{\\text{Recall} + \\text{Specificity}}{2}\n",
    "    $$\n",
    "\n",
    "From the data provided:\n",
    "- True Positives (TP) = 120\n",
    "- False Positives (FP) = 50\n",
    "- False Negatives (FN) = 150 - 120 = 30\n",
    "- True Negatives (TN) = 500 - 150 - 50 = 300\n",
    "\n",
    "Using the above values, we can calculate Precision, Recall, F1-score, Specificity, and Balanced Accuracy.\n",
    "\n",
    "Here are the calculated values for the metrics based on the provided data:\n",
    "\n",
    "1. **Precision**: Approximately \\(0.706\\) or \\(70.6\\%\\)\n",
    "2. **Recall**: \\(0.8\\) or \\(80\\%\\)\n",
    "3. **F1-score**: Approximately \\(0.750\\) or \\(75\\%\\)\n",
    "4. **Specificity**: Approximately \\(0.857\\) or \\(85.7\\%\\)\n",
    "5. **Balanced Accuracy**: Approximately \\(0.829\\) or \\(82.9\\%\\)\n",
    "\n",
    "### Interpretation:\n",
    "- **Precision**: Of all the patients the test identified as positive for disease Z, about \\(70.6\\%\\) actually had the disease.\n",
    "- **Recall**: The test was able to correctly identify \\(80\\%\\) of the patients who actually had disease Z.\n",
    "- **F1-score**: This score, being the harmonic mean of precision and recall, indicates a balanced measure of the test's accuracy and its ability to detect positive cases. It's at \\(75\\%\\), suggesting a relatively good balance between precision and recall.\n",
    "- **Specificity**: The test correctly identified approximately \\(85.7\\%\\) of the patients who did not have disease Z.\n",
    "- **Balanced Accuracy**: This metric gives an average accuracy across both positive and negative cases, and it's at \\(82.9\\%\\). This suggests that the test performs fairly well across both classes.\n",
    "\n"
   ]
  },
  {
   "cell_type": "markdown",
   "metadata": {
    "id": "aPOZo4QM5V_y"
   },
   "source": [
    "**Task 4.2 (6 Points)** Plot the ROC curve\n",
    "\n",
    "An ROC curve plots TPR (y-axis) vs. FPR (x-axis) at all classification thresholds. Lowering the classification threshold classifies more items as positive, thus increasing both False Positives and True Positives.\n",
    "\n",
    "See this for more details (https://developers.google.com/machine-learning/crash-course/classification/roc-and-auc)\n",
    "\n",
    "Plot the ROC curve for Disease Z HW1 dataset with SVM classifier. **Note that you are not allowed to use any library function to compute the ROC. You have to do it from scratch.**"
   ]
  },
  {
   "cell_type": "code",
   "execution_count": 75,
   "metadata": {
    "id": "aZnZs_QC5oxQ"
   },
   "outputs": [
    {
     "data": {
      "text/html": [
       "<div>\n",
       "<style scoped>\n",
       "    .dataframe tbody tr th:only-of-type {\n",
       "        vertical-align: middle;\n",
       "    }\n",
       "\n",
       "    .dataframe tbody tr th {\n",
       "        vertical-align: top;\n",
       "    }\n",
       "\n",
       "    .dataframe thead th {\n",
       "        text-align: right;\n",
       "    }\n",
       "</style>\n",
       "<table border=\"1\" class=\"dataframe\">\n",
       "  <thead>\n",
       "    <tr style=\"text-align: right;\">\n",
       "      <th></th>\n",
       "      <th>age</th>\n",
       "      <th>sex</th>\n",
       "      <th>bmi</th>\n",
       "      <th>bp</th>\n",
       "      <th>s1</th>\n",
       "      <th>s2</th>\n",
       "      <th>s3</th>\n",
       "      <th>s4</th>\n",
       "      <th>s5</th>\n",
       "      <th>s6</th>\n",
       "      <th>target</th>\n",
       "    </tr>\n",
       "  </thead>\n",
       "  <tbody>\n",
       "    <tr>\n",
       "      <th>0</th>\n",
       "      <td>0.038076</td>\n",
       "      <td>0.050680</td>\n",
       "      <td>0.061696</td>\n",
       "      <td>0.021872</td>\n",
       "      <td>-0.044223</td>\n",
       "      <td>-0.034821</td>\n",
       "      <td>-0.043401</td>\n",
       "      <td>-0.002592</td>\n",
       "      <td>0.019907</td>\n",
       "      <td>-0.017646</td>\n",
       "      <td>151.0</td>\n",
       "    </tr>\n",
       "    <tr>\n",
       "      <th>1</th>\n",
       "      <td>-0.001882</td>\n",
       "      <td>-0.044642</td>\n",
       "      <td>-0.051474</td>\n",
       "      <td>-0.026328</td>\n",
       "      <td>-0.008449</td>\n",
       "      <td>-0.019163</td>\n",
       "      <td>0.074412</td>\n",
       "      <td>-0.039493</td>\n",
       "      <td>-0.068332</td>\n",
       "      <td>-0.092204</td>\n",
       "      <td>75.0</td>\n",
       "    </tr>\n",
       "    <tr>\n",
       "      <th>2</th>\n",
       "      <td>0.085299</td>\n",
       "      <td>0.050680</td>\n",
       "      <td>0.044451</td>\n",
       "      <td>-0.005670</td>\n",
       "      <td>-0.045599</td>\n",
       "      <td>-0.034194</td>\n",
       "      <td>-0.032356</td>\n",
       "      <td>-0.002592</td>\n",
       "      <td>0.002861</td>\n",
       "      <td>-0.025930</td>\n",
       "      <td>141.0</td>\n",
       "    </tr>\n",
       "    <tr>\n",
       "      <th>3</th>\n",
       "      <td>-0.089063</td>\n",
       "      <td>-0.044642</td>\n",
       "      <td>-0.011595</td>\n",
       "      <td>-0.036656</td>\n",
       "      <td>0.012191</td>\n",
       "      <td>0.024991</td>\n",
       "      <td>-0.036038</td>\n",
       "      <td>0.034309</td>\n",
       "      <td>0.022688</td>\n",
       "      <td>-0.009362</td>\n",
       "      <td>206.0</td>\n",
       "    </tr>\n",
       "    <tr>\n",
       "      <th>4</th>\n",
       "      <td>0.005383</td>\n",
       "      <td>-0.044642</td>\n",
       "      <td>-0.036385</td>\n",
       "      <td>0.021872</td>\n",
       "      <td>0.003935</td>\n",
       "      <td>0.015596</td>\n",
       "      <td>0.008142</td>\n",
       "      <td>-0.002592</td>\n",
       "      <td>-0.031988</td>\n",
       "      <td>-0.046641</td>\n",
       "      <td>135.0</td>\n",
       "    </tr>\n",
       "  </tbody>\n",
       "</table>\n",
       "</div>"
      ],
      "text/plain": [
       "        age       sex       bmi        bp        s1        s2        s3  \\\n",
       "0  0.038076  0.050680  0.061696  0.021872 -0.044223 -0.034821 -0.043401   \n",
       "1 -0.001882 -0.044642 -0.051474 -0.026328 -0.008449 -0.019163  0.074412   \n",
       "2  0.085299  0.050680  0.044451 -0.005670 -0.045599 -0.034194 -0.032356   \n",
       "3 -0.089063 -0.044642 -0.011595 -0.036656  0.012191  0.024991 -0.036038   \n",
       "4  0.005383 -0.044642 -0.036385  0.021872  0.003935  0.015596  0.008142   \n",
       "\n",
       "         s4        s5        s6  target  \n",
       "0 -0.002592  0.019907 -0.017646   151.0  \n",
       "1 -0.039493 -0.068332 -0.092204    75.0  \n",
       "2 -0.002592  0.002861 -0.025930   141.0  \n",
       "3  0.034309  0.022688 -0.009362   206.0  \n",
       "4 -0.002592 -0.031988 -0.046641   135.0  "
      ]
     },
     "execution_count": 75,
     "metadata": {},
     "output_type": "execute_result"
    }
   ],
   "source": [
    "## Your code to compute and plot ROC goes here\n",
    "import pandas as pd\n",
    "\n",
    "# Load the dataset\n",
    "dataset_path = \"FML2023_HW1_Dataset.csv\"\n",
    "data = pd.read_csv(dataset_path)\n",
    "\n",
    "# Display the first few rows of the dataset to understand its structure\n",
    "data.head()\n"
   ]
  },
  {
   "cell_type": "code",
   "execution_count": 76,
   "metadata": {},
   "outputs": [
    {
     "data": {
      "text/html": [
       "<div>\n",
       "<style scoped>\n",
       "    .dataframe tbody tr th:only-of-type {\n",
       "        vertical-align: middle;\n",
       "    }\n",
       "\n",
       "    .dataframe tbody tr th {\n",
       "        vertical-align: top;\n",
       "    }\n",
       "\n",
       "    .dataframe thead th {\n",
       "        text-align: right;\n",
       "    }\n",
       "</style>\n",
       "<table border=\"1\" class=\"dataframe\">\n",
       "  <thead>\n",
       "    <tr style=\"text-align: right;\">\n",
       "      <th></th>\n",
       "      <th>target</th>\n",
       "      <th>binary_target</th>\n",
       "    </tr>\n",
       "  </thead>\n",
       "  <tbody>\n",
       "    <tr>\n",
       "      <th>0</th>\n",
       "      <td>151.0</td>\n",
       "      <td>1</td>\n",
       "    </tr>\n",
       "    <tr>\n",
       "      <th>1</th>\n",
       "      <td>75.0</td>\n",
       "      <td>0</td>\n",
       "    </tr>\n",
       "    <tr>\n",
       "      <th>2</th>\n",
       "      <td>141.0</td>\n",
       "      <td>1</td>\n",
       "    </tr>\n",
       "    <tr>\n",
       "      <th>3</th>\n",
       "      <td>206.0</td>\n",
       "      <td>1</td>\n",
       "    </tr>\n",
       "    <tr>\n",
       "      <th>4</th>\n",
       "      <td>135.0</td>\n",
       "      <td>0</td>\n",
       "    </tr>\n",
       "  </tbody>\n",
       "</table>\n",
       "</div>"
      ],
      "text/plain": [
       "   target  binary_target\n",
       "0   151.0              1\n",
       "1    75.0              0\n",
       "2   141.0              1\n",
       "3   206.0              1\n",
       "4   135.0              0"
      ]
     },
     "execution_count": 76,
     "metadata": {},
     "output_type": "execute_result"
    }
   ],
   "source": [
    "# Binarize the target column based on its median\n",
    "threshold = data['target'].median()\n",
    "data['binary_target'] = (data['target'] > threshold).astype(int)\n",
    "\n",
    "# Display the first few rows of the dataset after binarization\n",
    "data[['target', 'binary_target']].head()\n"
   ]
  },
  {
   "cell_type": "code",
   "execution_count": 77,
   "metadata": {},
   "outputs": [
    {
     "data": {
      "text/html": [
       "<style>#sk-container-id-2 {color: black;}#sk-container-id-2 pre{padding: 0;}#sk-container-id-2 div.sk-toggleable {background-color: white;}#sk-container-id-2 label.sk-toggleable__label {cursor: pointer;display: block;width: 100%;margin-bottom: 0;padding: 0.3em;box-sizing: border-box;text-align: center;}#sk-container-id-2 label.sk-toggleable__label-arrow:before {content: \"▸\";float: left;margin-right: 0.25em;color: #696969;}#sk-container-id-2 label.sk-toggleable__label-arrow:hover:before {color: black;}#sk-container-id-2 div.sk-estimator:hover label.sk-toggleable__label-arrow:before {color: black;}#sk-container-id-2 div.sk-toggleable__content {max-height: 0;max-width: 0;overflow: hidden;text-align: left;background-color: #f0f8ff;}#sk-container-id-2 div.sk-toggleable__content pre {margin: 0.2em;color: black;border-radius: 0.25em;background-color: #f0f8ff;}#sk-container-id-2 input.sk-toggleable__control:checked~div.sk-toggleable__content {max-height: 200px;max-width: 100%;overflow: auto;}#sk-container-id-2 input.sk-toggleable__control:checked~label.sk-toggleable__label-arrow:before {content: \"▾\";}#sk-container-id-2 div.sk-estimator input.sk-toggleable__control:checked~label.sk-toggleable__label {background-color: #d4ebff;}#sk-container-id-2 div.sk-label input.sk-toggleable__control:checked~label.sk-toggleable__label {background-color: #d4ebff;}#sk-container-id-2 input.sk-hidden--visually {border: 0;clip: rect(1px 1px 1px 1px);clip: rect(1px, 1px, 1px, 1px);height: 1px;margin: -1px;overflow: hidden;padding: 0;position: absolute;width: 1px;}#sk-container-id-2 div.sk-estimator {font-family: monospace;background-color: #f0f8ff;border: 1px dotted black;border-radius: 0.25em;box-sizing: border-box;margin-bottom: 0.5em;}#sk-container-id-2 div.sk-estimator:hover {background-color: #d4ebff;}#sk-container-id-2 div.sk-parallel-item::after {content: \"\";width: 100%;border-bottom: 1px solid gray;flex-grow: 1;}#sk-container-id-2 div.sk-label:hover label.sk-toggleable__label {background-color: #d4ebff;}#sk-container-id-2 div.sk-serial::before {content: \"\";position: absolute;border-left: 1px solid gray;box-sizing: border-box;top: 0;bottom: 0;left: 50%;z-index: 0;}#sk-container-id-2 div.sk-serial {display: flex;flex-direction: column;align-items: center;background-color: white;padding-right: 0.2em;padding-left: 0.2em;position: relative;}#sk-container-id-2 div.sk-item {position: relative;z-index: 1;}#sk-container-id-2 div.sk-parallel {display: flex;align-items: stretch;justify-content: center;background-color: white;position: relative;}#sk-container-id-2 div.sk-item::before, #sk-container-id-2 div.sk-parallel-item::before {content: \"\";position: absolute;border-left: 1px solid gray;box-sizing: border-box;top: 0;bottom: 0;left: 50%;z-index: -1;}#sk-container-id-2 div.sk-parallel-item {display: flex;flex-direction: column;z-index: 1;position: relative;background-color: white;}#sk-container-id-2 div.sk-parallel-item:first-child::after {align-self: flex-end;width: 50%;}#sk-container-id-2 div.sk-parallel-item:last-child::after {align-self: flex-start;width: 50%;}#sk-container-id-2 div.sk-parallel-item:only-child::after {width: 0;}#sk-container-id-2 div.sk-dashed-wrapped {border: 1px dashed gray;margin: 0 0.4em 0.5em 0.4em;box-sizing: border-box;padding-bottom: 0.4em;background-color: white;}#sk-container-id-2 div.sk-label label {font-family: monospace;font-weight: bold;display: inline-block;line-height: 1.2em;}#sk-container-id-2 div.sk-label-container {text-align: center;}#sk-container-id-2 div.sk-container {/* jupyter's `normalize.less` sets `[hidden] { display: none; }` but bootstrap.min.css set `[hidden] { display: none !important; }` so we also need the `!important` here to be able to override the default hidden behavior on the sphinx rendered scikit-learn.org. See: https://github.com/scikit-learn/scikit-learn/issues/21755 */display: inline-block !important;position: relative;}#sk-container-id-2 div.sk-text-repr-fallback {display: none;}</style><div id=\"sk-container-id-2\" class=\"sk-top-container\"><div class=\"sk-text-repr-fallback\"><pre>SVC(kernel=&#x27;linear&#x27;, probability=True, random_state=42)</pre><b>In a Jupyter environment, please rerun this cell to show the HTML representation or trust the notebook. <br />On GitHub, the HTML representation is unable to render, please try loading this page with nbviewer.org.</b></div><div class=\"sk-container\" hidden><div class=\"sk-item\"><div class=\"sk-estimator sk-toggleable\"><input class=\"sk-toggleable__control sk-hidden--visually\" id=\"sk-estimator-id-2\" type=\"checkbox\" checked><label for=\"sk-estimator-id-2\" class=\"sk-toggleable__label sk-toggleable__label-arrow\">SVC</label><div class=\"sk-toggleable__content\"><pre>SVC(kernel=&#x27;linear&#x27;, probability=True, random_state=42)</pre></div></div></div></div></div>"
      ],
      "text/plain": [
       "SVC(kernel='linear', probability=True, random_state=42)"
      ]
     },
     "execution_count": 77,
     "metadata": {},
     "output_type": "execute_result"
    }
   ],
   "source": [
    "from sklearn.model_selection import train_test_split\n",
    "from sklearn.svm import SVC\n",
    "\n",
    "# Split the dataset into training and testing sets\n",
    "X = data.drop(columns=['target', 'binary_target'])\n",
    "y = data['binary_target']\n",
    "X_train, X_test, y_train, y_test = train_test_split(X, y, test_size=0.2, random_state=42)\n",
    "\n",
    "# Train an SVM classifier on the training set\n",
    "svm_classifier = SVC(probability=True, kernel='linear', random_state=42)\n",
    "svm_classifier.fit(X_train, y_train)\n"
   ]
  },
  {
   "cell_type": "code",
   "execution_count": 78,
   "metadata": {},
   "outputs": [],
   "source": [
    "import numpy as np\n",
    "\n",
    "# Predict probabilities on the testing set\n",
    "y_probs = svm_classifier.predict_proba(X_test)[:, 1]\n",
    "\n",
    "# Initialize lists to store TPR and FPR values\n",
    "tpr_values = []\n",
    "fpr_values = []\n",
    "\n",
    "# Define a function to compute TPR and FPR\n",
    "def compute_tpr_fpr(y_true, y_pred):\n",
    "    TP = np.sum((y_true == 1) & (y_pred == 1))\n",
    "    TN = np.sum((y_true == 0) & (y_pred == 0))\n",
    "    FP = np.sum((y_true == 0) & (y_pred == 1))\n",
    "    FN = np.sum((y_true == 1) & (y_pred == 0))\n",
    "    \n",
    "    TPR = TP / (TP + FN)\n",
    "    FPR = FP / (FP + TN)\n",
    "    \n",
    "    return TPR, FPR\n",
    "\n",
    "# Iterate over various thresholds to compute TPR and FPR\n",
    "thresholds = np.linspace(0, 1, 100)\n",
    "for threshold in thresholds:\n",
    "    y_pred = (y_probs > threshold).astype(int)\n",
    "    tpr, fpr = compute_tpr_fpr(y_test, y_pred)\n",
    "    tpr_values.append(tpr)\n",
    "    fpr_values.append(fpr)\n",
    "\n",
    "# print values: (commented out for display clarity)\n",
    "# tpr_values, fpr_values\n"
   ]
  },
  {
   "cell_type": "code",
   "execution_count": 79,
   "metadata": {},
   "outputs": [
    {
     "data": {
      "image/png": "[encoded data removed]",
      "text/plain": [
       "<Figure size 800x600 with 1 Axes>"
      ]
     },
     "metadata": {},
     "output_type": "display_data"
    }
   ],
   "source": [
    "import matplotlib.pyplot as plt\n",
    "\n",
    "# Plot the ROC curve\n",
    "plt.figure(figsize=(8, 6))\n",
    "plt.plot(fpr_values, tpr_values, label='SVM Classifier', color='blue')\n",
    "plt.plot([0, 1], [0, 1], linestyle='--', color='red', label='Random Classifier')\n",
    "plt.xlabel('False Positive Rate (FPR)')\n",
    "plt.ylabel('True Positive Rate (TPR)')\n",
    "plt.title('ROC Curve')\n",
    "plt.legend()\n",
    "plt.grid(True)\n",
    "plt.show()\n"
   ]
  },
  {
   "cell_type": "markdown",
   "metadata": {
    "id": "G9sRjUMk592y"
   },
   "source": [
    "**Task 4.3 (6 Points):** Compute the AUC of ROC\n",
    "\n",
    "AUC stands for \"Area under the ROC Curve.\" That is, AUC measures the entire two-dimensional area underneath the entire ROC curve (think integral calculus) from (0,0) to (1,1). AUC provides an aggregate measure of performance across all possible classification thresholds. One way of interpreting AUC is as the probability that the model ranks a random positive example more highly than a random negative example.\n",
    "\n",
    "Compute the AUC of your SVM model. **Note that you are not allowed to use any library function to compute the AUC. You have to do it from scratch.**"
   ]
  },
  {
   "cell_type": "code",
   "execution_count": 25,
   "metadata": {
    "id": "DOBw8ACA587S"
   },
   "outputs": [
    {
     "data": {
      "text/plain": [
       "0.8385204081632653"
      ]
     },
     "execution_count": 25,
     "metadata": {},
     "output_type": "execute_result"
    }
   ],
   "source": [
    "## Your code to compute the AUC goes here\n",
    "# Sort FPR and corresponding TPR values\n",
    "sorted_indices = np.argsort(fpr_values)\n",
    "sorted_fpr = np.array(fpr_values)[sorted_indices]\n",
    "sorted_tpr = np.array(tpr_values)[sorted_indices]\n",
    "\n",
    "# Compute the AUC using the trapezoidal rule with sorted values\n",
    "auc = 0\n",
    "for i in range(1, len(sorted_fpr)):\n",
    "    auc += (sorted_tpr[i] + sorted_tpr[i-1]) * (sorted_fpr[i] - sorted_fpr[i-1]) / 2\n",
    "\n",
    "auc\n",
    "\n"
   ]
  },
  {
   "cell_type": "code",
   "execution_count": null,
   "metadata": {},
   "outputs": [],
   "source": []
  }
 ],
 "metadata": {
  "colab": {
   "provenance": []
  },
  "kernelspec": {
   "display_name": "Python 3 (ipykernel)",
   "language": "python",
   "name": "python3"
  },
  "language_info": {
   "codemirror_mode": {
    "name": "ipython",
    "version": 3
   },
   "file_extension": ".py",
   "mimetype": "text/x-python",
   "name": "python",
   "nbconvert_exporter": "python",
   "pygments_lexer": "ipython3",
   "version": "3.11.4"
  }
 },
 "nbformat": 4,
 "nbformat_minor": 1
}
